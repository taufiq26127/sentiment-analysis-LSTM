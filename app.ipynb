{
 "cells": [
  {
   "cell_type": "markdown",
   "metadata": {},
   "source": [
    "### Import Library"
   ]
  },
  {
   "cell_type": "code",
   "execution_count": 2,
   "metadata": {},
   "outputs": [],
   "source": [
    "import pandas as pd\n",
    "import numpy as np"
   ]
  },
  {
   "cell_type": "markdown",
   "metadata": {},
   "source": [
    "### Read Dataset"
   ]
  },
  {
   "cell_type": "code",
   "execution_count": 3,
   "metadata": {},
   "outputs": [
    {
     "data": {
      "text/html": [
       "<div>\n",
       "<style scoped>\n",
       "    .dataframe tbody tr th:only-of-type {\n",
       "        vertical-align: middle;\n",
       "    }\n",
       "\n",
       "    .dataframe tbody tr th {\n",
       "        vertical-align: top;\n",
       "    }\n",
       "\n",
       "    .dataframe thead th {\n",
       "        text-align: right;\n",
       "    }\n",
       "</style>\n",
       "<table border=\"1\" class=\"dataframe\">\n",
       "  <thead>\n",
       "    <tr style=\"text-align: right;\">\n",
       "      <th></th>\n",
       "      <th>review</th>\n",
       "      <th>rate</th>\n",
       "    </tr>\n",
       "  </thead>\n",
       "  <tbody>\n",
       "    <tr>\n",
       "      <th>0</th>\n",
       "      <td>Apa aplikasi yang bagus untuk dengan mudah per...</td>\n",
       "      <td>positive</td>\n",
       "    </tr>\n",
       "    <tr>\n",
       "      <th>1</th>\n",
       "      <td>Aplikasi ini banyak membantu saya. Sekarang sa...</td>\n",
       "      <td>positive</td>\n",
       "    </tr>\n",
       "    <tr>\n",
       "      <th>2</th>\n",
       "      <td>Mengerikan. Antarmukanya sangat membingungkan....</td>\n",
       "      <td>negative</td>\n",
       "    </tr>\n",
       "    <tr>\n",
       "      <th>3</th>\n",
       "      <td>Aplikasi yang cukup mengesankan. Butuh waktu l...</td>\n",
       "      <td>positive</td>\n",
       "    </tr>\n",
       "    <tr>\n",
       "      <th>4</th>\n",
       "      <td>Aplikasi ini sebenarnya bagus dan sangat memba...</td>\n",
       "      <td>positive</td>\n",
       "    </tr>\n",
       "    <tr>\n",
       "      <th>...</th>\n",
       "      <td>...</td>\n",
       "      <td>...</td>\n",
       "    </tr>\n",
       "    <tr>\n",
       "      <th>1777</th>\n",
       "      <td>Jelas lebih baik daripada yang lain di luar sa...</td>\n",
       "      <td>positive</td>\n",
       "    </tr>\n",
       "    <tr>\n",
       "      <th>1778</th>\n",
       "      <td>Untuk ruang penyimpanan yang luas, buatlah sed...</td>\n",
       "      <td>negative</td>\n",
       "    </tr>\n",
       "    <tr>\n",
       "      <th>1779</th>\n",
       "      <td>Aplikasi yang sangat bagus, beri kami lebih ba...</td>\n",
       "      <td>positive</td>\n",
       "    </tr>\n",
       "    <tr>\n",
       "      <th>1780</th>\n",
       "      <td>cintai ini terutama ketika Anda membutuhkan tr...</td>\n",
       "      <td>positive</td>\n",
       "    </tr>\n",
       "    <tr>\n",
       "      <th>1781</th>\n",
       "      <td>pembaruan menyebalkan keledai itu tidak akan b...</td>\n",
       "      <td>negative</td>\n",
       "    </tr>\n",
       "  </tbody>\n",
       "</table>\n",
       "<p>1782 rows × 2 columns</p>\n",
       "</div>"
      ],
      "text/plain": [
       "                                                 review      rate\n",
       "0     Apa aplikasi yang bagus untuk dengan mudah per...  positive\n",
       "1     Aplikasi ini banyak membantu saya. Sekarang sa...  positive\n",
       "2     Mengerikan. Antarmukanya sangat membingungkan....  negative\n",
       "3     Aplikasi yang cukup mengesankan. Butuh waktu l...  positive\n",
       "4     Aplikasi ini sebenarnya bagus dan sangat memba...  positive\n",
       "...                                                 ...       ...\n",
       "1777  Jelas lebih baik daripada yang lain di luar sa...  positive\n",
       "1778  Untuk ruang penyimpanan yang luas, buatlah sed...  negative\n",
       "1779  Aplikasi yang sangat bagus, beri kami lebih ba...  positive\n",
       "1780  cintai ini terutama ketika Anda membutuhkan tr...  positive\n",
       "1781  pembaruan menyebalkan keledai itu tidak akan b...  negative\n",
       "\n",
       "[1782 rows x 2 columns]"
      ]
     },
     "execution_count": 3,
     "metadata": {},
     "output_type": "execute_result"
    }
   ],
   "source": [
    "path_file = 'dataset/gojek_review_sentiment.csv'\n",
    "\n",
    "df = pd.read_csv(path_file)\n",
    "df"
   ]
  },
  {
   "cell_type": "code",
   "execution_count": 4,
   "metadata": {},
   "outputs": [
    {
     "data": {
      "text/plain": [
       "rate\n",
       "negative    1061\n",
       "positive     721\n",
       "Name: count, dtype: int64"
      ]
     },
     "execution_count": 4,
     "metadata": {},
     "output_type": "execute_result"
    }
   ],
   "source": [
    "df.rate.value_counts()"
   ]
  },
  {
   "cell_type": "code",
   "execution_count": 5,
   "metadata": {},
   "outputs": [
    {
     "data": {
      "text/html": [
       "<div>\n",
       "<style scoped>\n",
       "    .dataframe tbody tr th:only-of-type {\n",
       "        vertical-align: middle;\n",
       "    }\n",
       "\n",
       "    .dataframe tbody tr th {\n",
       "        vertical-align: top;\n",
       "    }\n",
       "\n",
       "    .dataframe thead th {\n",
       "        text-align: right;\n",
       "    }\n",
       "</style>\n",
       "<table border=\"1\" class=\"dataframe\">\n",
       "  <thead>\n",
       "    <tr style=\"text-align: right;\">\n",
       "      <th></th>\n",
       "      <th>review</th>\n",
       "      <th>negative</th>\n",
       "      <th>positive</th>\n",
       "    </tr>\n",
       "  </thead>\n",
       "  <tbody>\n",
       "    <tr>\n",
       "      <th>0</th>\n",
       "      <td>Apa aplikasi yang bagus untuk dengan mudah per...</td>\n",
       "      <td>0</td>\n",
       "      <td>1</td>\n",
       "    </tr>\n",
       "    <tr>\n",
       "      <th>1</th>\n",
       "      <td>Aplikasi ini banyak membantu saya. Sekarang sa...</td>\n",
       "      <td>0</td>\n",
       "      <td>1</td>\n",
       "    </tr>\n",
       "    <tr>\n",
       "      <th>2</th>\n",
       "      <td>Mengerikan. Antarmukanya sangat membingungkan....</td>\n",
       "      <td>1</td>\n",
       "      <td>0</td>\n",
       "    </tr>\n",
       "    <tr>\n",
       "      <th>3</th>\n",
       "      <td>Aplikasi yang cukup mengesankan. Butuh waktu l...</td>\n",
       "      <td>0</td>\n",
       "      <td>1</td>\n",
       "    </tr>\n",
       "    <tr>\n",
       "      <th>4</th>\n",
       "      <td>Aplikasi ini sebenarnya bagus dan sangat memba...</td>\n",
       "      <td>0</td>\n",
       "      <td>1</td>\n",
       "    </tr>\n",
       "  </tbody>\n",
       "</table>\n",
       "</div>"
      ],
      "text/plain": [
       "                                              review  negative  positive\n",
       "0  Apa aplikasi yang bagus untuk dengan mudah per...         0         1\n",
       "1  Aplikasi ini banyak membantu saya. Sekarang sa...         0         1\n",
       "2  Mengerikan. Antarmukanya sangat membingungkan....         1         0\n",
       "3  Aplikasi yang cukup mengesankan. Butuh waktu l...         0         1\n",
       "4  Aplikasi ini sebenarnya bagus dan sangat memba...         0         1"
      ]
     },
     "execution_count": 5,
     "metadata": {},
     "output_type": "execute_result"
    }
   ],
   "source": [
    "category = pd.get_dummies(df.rate).astype(int)\n",
    "df_baru = pd.concat([df, category], axis=1)\n",
    "df_baru = df_baru.drop(columns='rate')\n",
    "df_baru.head()"
   ]
  },
  {
   "cell_type": "code",
   "execution_count": 6,
   "metadata": {},
   "outputs": [],
   "source": [
    "review = df_baru['review'].values\n",
    "label = df_baru[['negative','positive']].values"
   ]
  },
  {
   "cell_type": "markdown",
   "metadata": {},
   "source": [
    "### Split Dataset"
   ]
  },
  {
   "cell_type": "code",
   "execution_count": 7,
   "metadata": {},
   "outputs": [],
   "source": [
    "from sklearn.model_selection import train_test_split\n",
    "\n",
    "review_latih, review_test, label_latih, label_test = train_test_split(\n",
    "    review, label, random_state=42, test_size=0.2\n",
    ")"
   ]
  },
  {
   "cell_type": "markdown",
   "metadata": {},
   "source": [
    "### Train Model"
   ]
  },
  {
   "cell_type": "code",
   "execution_count": 8,
   "metadata": {},
   "outputs": [],
   "source": [
    "import tensorflow\n",
    "from tensorflow.keras.preprocessing.text import Tokenizer\n",
    "from tensorflow.keras.preprocessing.sequence import pad_sequences\n",
    "\n",
    "tokenizer = Tokenizer(num_words=5000, oov_token='x')\n",
    "tokenizer.fit_on_texts(review_latih)\n",
    "tokenizer.fit_on_texts(review_test)\n",
    "\n",
    "sequence_latih = tokenizer.texts_to_sequences(review_latih)\n",
    "sequence_test = tokenizer.texts_to_sequences(review_test)\n",
    "\n",
    "max_length = 100\n",
    "padded_latih = pad_sequences(sequence_latih, maxlen=max_length)\n",
    "padded_test = pad_sequences(sequence_test, maxlen=max_length)"
   ]
  },
  {
   "cell_type": "code",
   "execution_count": 9,
   "metadata": {},
   "outputs": [],
   "source": [
    "import tensorflow as tf\n",
    "\n",
    "model = tf.keras.Sequential([\n",
    "    tf.keras.layers.Embedding(input_dim=5000, output_dim=32),\n",
    "    tf.keras.layers.LSTM(64),\n",
    "    tf.keras.layers.Dense(64, activation='relu'),\n",
    "    tf.keras.layers.Dense(32, activation='relu'),\n",
    "    tf.keras.layers.Dense(2, activation='sigmoid')\n",
    "])\n",
    "\n",
    "model.compile(loss='binary_crossentropy', optimizer='adam', metrics=['accuracy'])"
   ]
  },
  {
   "cell_type": "code",
   "execution_count": 10,
   "metadata": {},
   "outputs": [
    {
     "name": "stdout",
     "output_type": "stream",
     "text": [
      "Epoch 1/10\n",
      "45/45 - 10s - loss: 0.6302 - accuracy: 0.6814 - val_loss: 0.5360 - val_accuracy: 0.7843 - 10s/epoch - 228ms/step\n",
      "Epoch 2/10\n",
      "45/45 - 1s - loss: 0.3872 - accuracy: 0.8540 - val_loss: 0.3167 - val_accuracy: 0.8964 - 640ms/epoch - 14ms/step\n",
      "Epoch 3/10\n",
      "45/45 - 1s - loss: 0.1851 - accuracy: 0.9340 - val_loss: 0.3080 - val_accuracy: 0.8796 - 583ms/epoch - 13ms/step\n",
      "Epoch 4/10\n",
      "45/45 - 1s - loss: 0.1069 - accuracy: 0.9614 - val_loss: 0.3221 - val_accuracy: 0.9244 - 561ms/epoch - 12ms/step\n",
      "Epoch 5/10\n",
      "45/45 - 1s - loss: 0.0782 - accuracy: 0.9761 - val_loss: 0.3796 - val_accuracy: 0.8852 - 576ms/epoch - 13ms/step\n",
      "Epoch 6/10\n",
      "45/45 - 1s - loss: 0.0372 - accuracy: 0.9895 - val_loss: 0.4176 - val_accuracy: 0.9020 - 565ms/epoch - 13ms/step\n",
      "Epoch 7/10\n",
      "45/45 - 1s - loss: 0.0179 - accuracy: 0.9965 - val_loss: 0.4938 - val_accuracy: 0.9020 - 584ms/epoch - 13ms/step\n",
      "Epoch 8/10\n",
      "45/45 - 1s - loss: 0.0101 - accuracy: 0.9972 - val_loss: 0.5361 - val_accuracy: 0.8992 - 577ms/epoch - 13ms/step\n",
      "Epoch 9/10\n",
      "45/45 - 1s - loss: 0.0376 - accuracy: 0.9874 - val_loss: 0.4630 - val_accuracy: 0.8824 - 573ms/epoch - 13ms/step\n",
      "Epoch 10/10\n",
      "45/45 - 1s - loss: 0.0250 - accuracy: 0.9930 - val_loss: 0.5182 - val_accuracy: 0.8768 - 592ms/epoch - 13ms/step\n"
     ]
    }
   ],
   "source": [
    "num_epochs = 10\n",
    "\n",
    "history = model.fit(padded_latih, label_latih,\n",
    "                    epochs=num_epochs, validation_data=(padded_test, label_test), verbose=2)"
   ]
  },
  {
   "cell_type": "markdown",
   "metadata": {},
   "source": [
    "### Test Model"
   ]
  },
  {
   "cell_type": "code",
   "execution_count": 13,
   "metadata": {},
   "outputs": [
    {
     "data": {
      "text/plain": [
       "'Tidak dapat membuka Aplikasi, mengerikan'"
      ]
     },
     "execution_count": 13,
     "metadata": {},
     "output_type": "execute_result"
    }
   ],
   "source": [
    "review_latih[100]"
   ]
  },
  {
   "cell_type": "code",
   "execution_count": 14,
   "metadata": {},
   "outputs": [
    {
     "data": {
      "text/plain": [
       "array([  0,   0,   0,   0,   0,   0,   0,   0,   0,   0,   0,   0,   0,\n",
       "         0,   0,   0,   0,   0,   0,   0,   0,   0,   0,   0,   0,   0,\n",
       "         0,   0,   0,   0,   0,   0,   0,   0,   0,   0,   0,   0,   0,\n",
       "         0,   0,   0,   0,   0,   0,   0,   0,   0,   0,   0,   0,   0,\n",
       "         0,   0,   0,   0,   0,   0,   0,   0,   0,   0,   0,   0,   0,\n",
       "         0,   0,   0,   0,   0,   0,   0,   0,   0,   0,   0,   0,   0,\n",
       "         0,   0,   0,   0,   0,   0,   0,   0,   0,   0,   0,   0,   0,\n",
       "         0,   0,   0,   0,   3,  10, 265,   4, 261])"
      ]
     },
     "execution_count": 14,
     "metadata": {},
     "output_type": "execute_result"
    }
   ],
   "source": [
    "padded_latih[100]"
   ]
  },
  {
   "cell_type": "code",
   "execution_count": 15,
   "metadata": {},
   "outputs": [
    {
     "data": {
      "text/plain": [
       "array([1, 0])"
      ]
     },
     "execution_count": 15,
     "metadata": {},
     "output_type": "execute_result"
    }
   ],
   "source": [
    "label_latih[100]"
   ]
  },
  {
   "cell_type": "code",
   "execution_count": 17,
   "metadata": {},
   "outputs": [],
   "source": [
    "def prediksi(text):\n",
    "  text_sequence = tokenizer.texts_to_sequences(text)\n",
    "\n",
    "  text_padded = pad_sequences(text_sequence, maxlen=100)\n",
    "  return text_padded"
   ]
  },
  {
   "cell_type": "code",
   "execution_count": 18,
   "metadata": {},
   "outputs": [
    {
     "name": "stdout",
     "output_type": "stream",
     "text": [
      "1/1 [==============================] - 0s 374ms/step\n"
     ]
    },
    {
     "data": {
      "text/plain": [
       "array([[9.9998248e-01, 2.0021562e-05]], dtype=float32)"
      ]
     },
     "execution_count": 18,
     "metadata": {},
     "output_type": "execute_result"
    }
   ],
   "source": [
    "predict = model.predict(prediksi([review_latih[100]]))\n",
    "predict"
   ]
  },
  {
   "cell_type": "code",
   "execution_count": 19,
   "metadata": {},
   "outputs": [
    {
     "data": {
      "text/plain": [
       "0"
      ]
     },
     "execution_count": 19,
     "metadata": {},
     "output_type": "execute_result"
    }
   ],
   "source": [
    "np.argmax(predict)"
   ]
  },
  {
   "cell_type": "markdown",
   "metadata": {},
   "source": [
    "### Evaluation"
   ]
  },
  {
   "cell_type": "code",
   "execution_count": 20,
   "metadata": {},
   "outputs": [
    {
     "name": "stdout",
     "output_type": "stream",
     "text": [
      "12/12 [==============================] - 0s 10ms/step\n"
     ]
    }
   ],
   "source": [
    "from sklearn.metrics import confusion_matrix\n",
    "\n",
    "# Prediksi kelas untuk data uji\n",
    "y_pred = model.predict(padded_test)\n",
    "\n",
    "# Konversi prediksi probabilitas menjadi kelas\n",
    "y_pred_classes = np.argmax(y_pred, axis=1)\n",
    "\n",
    "# Konversi label validasi ke kelas\n",
    "y_true = np.argmax(label_test, axis=1)\n",
    "\n",
    "\n",
    "# Hitung confusion matrix\n",
    "cm = confusion_matrix(y_true, y_pred_classes)"
   ]
  },
  {
   "cell_type": "code",
   "execution_count": 22,
   "metadata": {},
   "outputs": [
    {
     "data": {
      "image/png": "[encoded data removed]",
      "text/plain": [
       "<Figure size 800x600 with 1 Axes>"
      ]
     },
     "metadata": {},
     "output_type": "display_data"
    }
   ],
   "source": [
    "import matplotlib.pyplot as plt\n",
    "import seaborn as sns\n",
    "\n",
    "# Plot confusion matrix\n",
    "plt.figure(figsize=(8, 6))\n",
    "sns.heatmap(cm, annot=True, fmt='d', cmap='Blues', cbar=False, square=True,\n",
    "            xticklabels=range(cm.shape[1]), yticklabels=range(cm.shape[0]))\n",
    "plt.xlabel('Predicted Labels')\n",
    "plt.ylabel('True Labels')\n",
    "plt.title('Confusion Matrix')\n",
    "plt.tight_layout()  # Agar layout sesuai dengan ukuran figure\n",
    "plt.show()"
   ]
  },
  {
   "cell_type": "markdown",
   "metadata": {},
   "source": [
    "Model masih memiliki kekuranga dalam mengklasifikasikan sentiment, dimana model harus ditingkatkan atau mencoba  menggunakan algoritma yang lain\n",
    " - 197 (True Positives, TP): Jumlah contoh dari kelas positif yang diprediksi dengan benar sebagai positif.\n",
    " - 12 (False Positives, FP): Jumlah contoh dari kelas negatif yang diprediksi salah sebagai positif.\n",
    " - 32 (False Negatives, FN): Jumlah contoh dari kelas positif yang diprediksi salah sebagai negatif.\n",
    " - 116 (True Negatives, TN): Jumlah contoh dari kelas negatif yang diprediksi dengan benar sebagai negatif.\n",
    "\n",
    "Kesimpulan dari confusion matrix ini adalah bahwa model memiliki akurasi sekitar 87.7%, dengan presisi tinggi pada prediksi positif (94.3%) dan recall yang cukup baik (86.0%). Meskipun begitu, masih terdapat 32 instance yang seharusnya positif namun diprediksi negatif, dan 12 instance yang seharusnya negatif namun diprediksi positif."
   ]
  },
  {
   "cell_type": "markdown",
   "metadata": {},
   "source": []
  }
 ],
 "metadata": {
  "kernelspec": {
   "display_name": "Python 3",
   "language": "python",
   "name": "python3"
  },
  "language_info": {
   "codemirror_mode": {
    "name": "ipython",
    "version": 3
   },
   "file_extension": ".py",
   "mimetype": "text/x-python",
   "name": "python",
   "nbconvert_exporter": "python",
   "pygments_lexer": "ipython3",
   "version": "3.10.3"
  }
 },
 "nbformat": 4,
 "nbformat_minor": 2
}
